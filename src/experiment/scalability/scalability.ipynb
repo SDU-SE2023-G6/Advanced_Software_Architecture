{
 "cells": [
  {
   "cell_type": "code",
   "execution_count": 1,
   "id": "4b8d43d9-d4af-468c-aa25-d84b2b02c447",
   "metadata": {
    "collapsed": true,
    "jupyter": {
     "outputs_hidden": true
    }
   },
   "outputs": [
    {
     "name": "stdout",
     "output_type": "stream",
     "text": [
      "\u001B[33mWARNING: Skipping /usr/local/lib/python3.12/site-packages/charset_normalizer-3.3.2.dist-info due to invalid metadata entry 'name'\u001B[0m\u001B[33m\n",
      "\u001B[0mRequirement already satisfied: altair in /usr/local/Cellar/jupyterlab/4.0.9/libexec/lib/python3.12/site-packages (5.1.2)\n",
      "Requirement already satisfied: vega_datasets in /usr/local/Cellar/jupyterlab/4.0.9/libexec/lib/python3.12/site-packages (0.9.0)\n",
      "Requirement already satisfied: jinja2 in /usr/local/opt/python-jinja/lib/python3.12/site-packages (from altair) (3.1.2)\n",
      "Requirement already satisfied: jsonschema>=3.0 in /usr/local/Cellar/jupyterlab/4.0.9/libexec/lib/python3.12/site-packages (from altair) (4.20.0)\n",
      "Requirement already satisfied: numpy in /usr/local/Cellar/jupyterlab/4.0.9/libexec/lib/python3.12/site-packages (from altair) (1.26.2)\n",
      "Requirement already satisfied: packaging in /usr/local/opt/python-packaging/lib/python3.12/site-packages (from altair) (23.2)\n",
      "Requirement already satisfied: pandas>=0.25 in /usr/local/Cellar/jupyterlab/4.0.9/libexec/lib/python3.12/site-packages (from altair) (2.1.3)\n",
      "Requirement already satisfied: toolz in /usr/local/Cellar/jupyterlab/4.0.9/libexec/lib/python3.12/site-packages (from altair) (0.12.0)\n",
      "Requirement already satisfied: attrs>=22.2.0 in /usr/local/Cellar/jupyterlab/4.0.9/libexec/lib/python3.12/site-packages (from jsonschema>=3.0->altair) (23.1.0)\n",
      "Requirement already satisfied: jsonschema-specifications>=2023.03.6 in /usr/local/Cellar/jupyterlab/4.0.9/libexec/lib/python3.12/site-packages (from jsonschema>=3.0->altair) (2023.11.1)\n",
      "Requirement already satisfied: referencing>=0.28.4 in /usr/local/Cellar/jupyterlab/4.0.9/libexec/lib/python3.12/site-packages (from jsonschema>=3.0->altair) (0.31.0)\n",
      "Requirement already satisfied: rpds-py>=0.7.1 in /usr/local/Cellar/jupyterlab/4.0.9/libexec/lib/python3.12/site-packages (from jsonschema>=3.0->altair) (0.13.0)\n",
      "Requirement already satisfied: python-dateutil>=2.8.2 in /usr/local/opt/python-dateutil/lib/python3.12/site-packages (from pandas>=0.25->altair) (2.8.2)\n",
      "Requirement already satisfied: pytz>=2020.1 in /usr/local/Cellar/jupyterlab/4.0.9/libexec/lib/python3.12/site-packages (from pandas>=0.25->altair) (2023.3.post1)\n",
      "Requirement already satisfied: tzdata>=2022.1 in /usr/local/Cellar/jupyterlab/4.0.9/libexec/lib/python3.12/site-packages (from pandas>=0.25->altair) (2023.3)\n",
      "Requirement already satisfied: MarkupSafe>=2.0 in /usr/local/opt/python-markupsafe/lib/python3.12/site-packages (from jinja2->altair) (2.1.3)\n",
      "Requirement already satisfied: six>=1.5 in /usr/local/opt/six/lib/python3.12/site-packages (from python-dateutil>=2.8.2->pandas>=0.25->altair) (1.16.0)\n",
      "\u001B[33mWARNING: Skipping /usr/local/lib/python3.12/site-packages/charset_normalizer-3.3.2.dist-info due to invalid metadata entry 'name'\u001B[0m\u001B[33m\n",
      "\u001B[0m\n",
      "\u001B[1m[\u001B[0m\u001B[34;49mnotice\u001B[0m\u001B[1;39;49m]\u001B[0m\u001B[39;49m A new release of pip is available: \u001B[0m\u001B[31;49m23.2.1\u001B[0m\u001B[39;49m -> \u001B[0m\u001B[32;49m23.3.1\u001B[0m\n",
      "\u001B[1m[\u001B[0m\u001B[34;49mnotice\u001B[0m\u001B[1;39;49m]\u001B[0m\u001B[39;49m To update, run: \u001B[0m\u001B[32;49m/usr/local/Cellar/jupyterlab/4.0.9/libexec/bin/python -m pip install --upgrade pip\u001B[0m\n",
      "Note: you may need to restart the kernel to use updated packages.\n"
     ]
    }
   ],
   "source": [
    "%pip install altair vega_datasets"
   ]
  },
  {
   "cell_type": "code",
   "execution_count": 2,
   "id": "3218dea7-aca8-4b03-a668-08fc91de5c76",
   "metadata": {
    "collapsed": true,
    "jupyter": {
     "outputs_hidden": true
    }
   },
   "outputs": [
    {
     "name": "stdout",
     "output_type": "stream",
     "text": [
      "\u001B[33mWARNING: Skipping /usr/local/lib/python3.12/site-packages/charset_normalizer-3.3.2.dist-info due to invalid metadata entry 'name'\u001B[0m\u001B[33m\n",
      "\u001B[0mRequirement already satisfied: vegafusion[embed] in /usr/local/Cellar/jupyterlab/4.0.9/libexec/lib/python3.12/site-packages (1.4.5)\n",
      "Requirement already satisfied: altair>=4.2.0 in /usr/local/Cellar/jupyterlab/4.0.9/libexec/lib/python3.12/site-packages (from vegafusion[embed]) (5.1.2)\n",
      "Requirement already satisfied: pyarrow>=5 in /usr/local/Cellar/jupyterlab/4.0.9/libexec/lib/python3.12/site-packages (from vegafusion[embed]) (14.0.1)\n",
      "Requirement already satisfied: pandas in /usr/local/Cellar/jupyterlab/4.0.9/libexec/lib/python3.12/site-packages (from vegafusion[embed]) (2.1.3)\n",
      "Requirement already satisfied: psutil in /usr/local/opt/python-psutil/lib/python3.12/site-packages (from vegafusion[embed]) (5.9.6)\n",
      "Requirement already satisfied: protobuf in /usr/local/Cellar/jupyterlab/4.0.9/libexec/lib/python3.12/site-packages (from vegafusion[embed]) (4.25.1)\n",
      "Requirement already satisfied: vegafusion-python-embed==1.4.5 in /usr/local/Cellar/jupyterlab/4.0.9/libexec/lib/python3.12/site-packages (from vegafusion[embed]) (1.4.5)\n",
      "Requirement already satisfied: vl-convert-python>=0.7.0 in /usr/local/Cellar/jupyterlab/4.0.9/libexec/lib/python3.12/site-packages (from vegafusion[embed]) (1.1.0)\n",
      "Requirement already satisfied: jinja2 in /usr/local/opt/python-jinja/lib/python3.12/site-packages (from altair>=4.2.0->vegafusion[embed]) (3.1.2)\n",
      "Requirement already satisfied: jsonschema>=3.0 in /usr/local/Cellar/jupyterlab/4.0.9/libexec/lib/python3.12/site-packages (from altair>=4.2.0->vegafusion[embed]) (4.20.0)\n",
      "Requirement already satisfied: numpy in /usr/local/Cellar/jupyterlab/4.0.9/libexec/lib/python3.12/site-packages (from altair>=4.2.0->vegafusion[embed]) (1.26.2)\n",
      "Requirement already satisfied: packaging in /usr/local/opt/python-packaging/lib/python3.12/site-packages (from altair>=4.2.0->vegafusion[embed]) (23.2)\n",
      "Requirement already satisfied: toolz in /usr/local/Cellar/jupyterlab/4.0.9/libexec/lib/python3.12/site-packages (from altair>=4.2.0->vegafusion[embed]) (0.12.0)\n",
      "Requirement already satisfied: python-dateutil>=2.8.2 in /usr/local/opt/python-dateutil/lib/python3.12/site-packages (from pandas->vegafusion[embed]) (2.8.2)\n",
      "Requirement already satisfied: pytz>=2020.1 in /usr/local/Cellar/jupyterlab/4.0.9/libexec/lib/python3.12/site-packages (from pandas->vegafusion[embed]) (2023.3.post1)\n",
      "Requirement already satisfied: tzdata>=2022.1 in /usr/local/Cellar/jupyterlab/4.0.9/libexec/lib/python3.12/site-packages (from pandas->vegafusion[embed]) (2023.3)\n",
      "Requirement already satisfied: attrs>=22.2.0 in /usr/local/Cellar/jupyterlab/4.0.9/libexec/lib/python3.12/site-packages (from jsonschema>=3.0->altair>=4.2.0->vegafusion[embed]) (23.1.0)\n",
      "Requirement already satisfied: jsonschema-specifications>=2023.03.6 in /usr/local/Cellar/jupyterlab/4.0.9/libexec/lib/python3.12/site-packages (from jsonschema>=3.0->altair>=4.2.0->vegafusion[embed]) (2023.11.1)\n",
      "Requirement already satisfied: referencing>=0.28.4 in /usr/local/Cellar/jupyterlab/4.0.9/libexec/lib/python3.12/site-packages (from jsonschema>=3.0->altair>=4.2.0->vegafusion[embed]) (0.31.0)\n",
      "Requirement already satisfied: rpds-py>=0.7.1 in /usr/local/Cellar/jupyterlab/4.0.9/libexec/lib/python3.12/site-packages (from jsonschema>=3.0->altair>=4.2.0->vegafusion[embed]) (0.13.0)\n",
      "Requirement already satisfied: six>=1.5 in /usr/local/opt/six/lib/python3.12/site-packages (from python-dateutil>=2.8.2->pandas->vegafusion[embed]) (1.16.0)\n",
      "Requirement already satisfied: MarkupSafe>=2.0 in /usr/local/opt/python-markupsafe/lib/python3.12/site-packages (from jinja2->altair>=4.2.0->vegafusion[embed]) (2.1.3)\n",
      "\u001B[33mWARNING: Skipping /usr/local/lib/python3.12/site-packages/charset_normalizer-3.3.2.dist-info due to invalid metadata entry 'name'\u001B[0m\u001B[33m\n",
      "\u001B[0m\n",
      "\u001B[1m[\u001B[0m\u001B[34;49mnotice\u001B[0m\u001B[1;39;49m]\u001B[0m\u001B[39;49m A new release of pip is available: \u001B[0m\u001B[31;49m23.2.1\u001B[0m\u001B[39;49m -> \u001B[0m\u001B[32;49m23.3.1\u001B[0m\n",
      "\u001B[1m[\u001B[0m\u001B[34;49mnotice\u001B[0m\u001B[1;39;49m]\u001B[0m\u001B[39;49m To update, run: \u001B[0m\u001B[32;49m/usr/local/Cellar/jupyterlab/4.0.9/libexec/bin/python -m pip install --upgrade pip\u001B[0m\n",
      "Note: you may need to restart the kernel to use updated packages.\n"
     ]
    }
   ],
   "source": [
    "pip install \"vegafusion[embed]\""
   ]
  },
  {
   "cell_type": "code",
   "execution_count": 2,
   "id": "68d3edb9-0086-4782-b1ce-a43bcdfd6ad3",
   "metadata": {},
   "outputs": [
    {
     "data": {
      "text/plain": [
       "DataTransformerRegistry.enable('vegafusion')"
      ]
     },
     "execution_count": 2,
     "metadata": {},
     "output_type": "execute_result"
    }
   ],
   "source": [
    "import pandas as pd\n",
    "import altair as alt\n",
    "alt.data_transformers.enable(\"vegafusion\")"
   ]
  },
  {
   "cell_type": "code",
   "execution_count": 6,
   "id": "dbc10bae-f734-41e6-9063-d91112ff95ce",
   "metadata": {},
   "outputs": [
    {
     "data": {
      "text/plain": [
       "(56.92546, 221.8296, 164.90414)"
      ]
     },
     "execution_count": 6,
     "metadata": {},
     "output_type": "execute_result"
    }
   ],
   "source": [
    "number_of_dataframes = 5\n",
    "dataframes = []\n",
    "for index in range(0, number_of_dataframes):\n",
    "    df = pd.read_csv(f'./sensor-data/1-supervisor/sensor-data-{index}.csv')\n",
    "    experiment_start = df[\"assemblyEpochMillis\"].iloc[0]\n",
    "    since_start_millis = []\n",
    "    for i, row in df.iterrows():\n",
    "        since_start_millis.append(row['assemblyEpochMillis'] - experiment_start)\n",
    "    df['assemblySupervisor'] = df.supervisorEpochMillis - df.assemblyEpochMillis\n",
    "    df['assemblyTimeSeries'] = df.influxEpochMillis - df.assemblyEpochMillis\n",
    "    df['supervisorTimeSeries'] = df.influxEpochMillis - df.supervisorEpochMillis\n",
    "    dataframes.append(df)\n",
    "\n",
    "df_concat = pd.concat(dataframes)\n",
    "\n",
    "assembly_supervisor_df = df_concat['assemblySupervisor']\n",
    "supervisor_by_row_index = assembly_supervisor_df.groupby(assembly_supervisor_df.index)\n",
    "supervisor_df_means = supervisor_by_row_index.mean()\n",
    "\n",
    "assembly_time_series_df = df_concat['assemblyTimeSeries']\n",
    "time_series_by_row_index = assembly_time_series_df.groupby(assembly_time_series_df.index)\n",
    "time_series_df_means = time_series_by_row_index.mean()\n",
    "\n",
    "supervisor_time_series_df = df_concat['supervisorTimeSeries']\n",
    "supervisor_time_series_by_row_index = supervisor_time_series_df.groupby(supervisor_time_series_df.index)\n",
    "supervisor_time_series_df_means = supervisor_time_series_by_row_index.mean()\n",
    "\n",
    "supervisor_df_means.mean(), time_series_df_means.mean(), supervisor_time_series_df_means.mean()\n"
   ]
  },
  {
   "cell_type": "code",
   "execution_count": null,
   "id": "8341a90e-57d7-444f-aaf0-1528fcc9ad94",
   "metadata": {
    "is_executing": true
   },
   "outputs": [],
   "source": [
    "number_of_dataframes = 5\n",
    "dataframes = []\n",
    "for index in range(0, number_of_dataframes):\n",
    "    df = pd.read_csv(f'./sensor-data/2-supervisor/sensor-data-{index}.csv')\n",
    "    experiment_start = df[\"assemblyEpochMillis\"].iloc[0]\n",
    "    since_start_millis = []\n",
    "    for i, row in df.iterrows():\n",
    "        since_start_millis.append(row['assemblyEpochMillis'] - experiment_start)\n",
    "    df['assemblySupervisor'] = df.supervisorEpochMillis - df.assemblyEpochMillis\n",
    "    df['assemblyTimeSeries'] = df.influxEpochMillis - df.assemblyEpochMillis\n",
    "    df['supervisorTimeSeries'] = df.influxEpochMillis - df.supervisorEpochMillis\n",
    "    dataframes.append(df)\n",
    "\n",
    "df_concat = pd.concat(dataframes)\n",
    "\n",
    "assembly_supervisor_df = df_concat['assemblySupervisor']\n",
    "supervisor_by_row_index = assembly_supervisor_df.groupby(assembly_supervisor_df.index)\n",
    "supervisor_df_means = supervisor_by_row_index.mean()\n",
    "\n",
    "assembly_time_series_df = df_concat['assemblyTimeSeries']\n",
    "time_series_by_row_index = assembly_time_series_df.groupby(assembly_time_series_df.index)\n",
    "time_series_df_means = time_series_by_row_index.mean()\n",
    "\n",
    "supervisor_time_series_df = df_concat['supervisorTimeSeries']\n",
    "supervisor_time_series_by_row_index = supervisor_time_series_df.groupby(supervisor_time_series_df.index)\n",
    "supervisor_time_series_df_means = supervisor_time_series_by_row_index.mean()\n",
    "\n",
    "supervisor_df_means.mean(), time_series_df_means.mean(), supervisor_time_series_df_means.mean()"
   ]
  },
  {
   "cell_type": "code",
   "execution_count": null,
   "outputs": [],
   "source": [
    "number_of_dataframes = 5\n",
    "dataframes = []\n",
    "for index in range(0, number_of_dataframes):\n",
    "    df = pd.read_csv(f'./sensor-data/3-supervisor/sensor-data-{index}.csv')\n",
    "    experiment_start = df[\"assemblyEpochMillis\"].iloc[0]\n",
    "    since_start_millis = []\n",
    "    for i, row in df.iterrows():\n",
    "        since_start_millis.append(row['assemblyEpochMillis'] - experiment_start)\n",
    "    df['assemblySupervisor'] = df.supervisorEpochMillis - df.assemblyEpochMillis\n",
    "    df['assemblyTimeSeries'] = df.influxEpochMillis - df.assemblyEpochMillis\n",
    "    df['supervisorTimeSeries'] = df.influxEpochMillis - df.supervisorEpochMillis\n",
    "    dataframes.append(df)\n",
    "\n",
    "df_concat = pd.concat(dataframes)\n",
    "\n",
    "assembly_supervisor_df = df_concat['assemblySupervisor']\n",
    "supervisor_by_row_index = assembly_supervisor_df.groupby(assembly_supervisor_df.index)\n",
    "supervisor_df_means = supervisor_by_row_index.mean()\n",
    "\n",
    "assembly_time_series_df = df_concat['assemblyTimeSeries']\n",
    "time_series_by_row_index = assembly_time_series_df.groupby(assembly_time_series_df.index)\n",
    "time_series_df_means = time_series_by_row_index.mean()\n",
    "\n",
    "supervisor_time_series_df = df_concat['supervisorTimeSeries']\n",
    "supervisor_time_series_by_row_index = supervisor_time_series_df.groupby(supervisor_time_series_df.index)\n",
    "supervisor_time_series_df_means = supervisor_time_series_by_row_index.mean()\n",
    "\n",
    "supervisor_df_means.mean(), time_series_df_means.mean(), supervisor_time_series_df_means.mean()"
   ],
   "metadata": {
    "collapsed": false
   }
  }
 ],
 "metadata": {
  "kernelspec": {
   "display_name": "Python 3 (ipykernel)",
   "language": "python",
   "name": "python3"
  },
  "language_info": {
   "codemirror_mode": {
    "name": "ipython",
    "version": 3
   },
   "file_extension": ".py",
   "mimetype": "text/x-python",
   "name": "python",
   "nbconvert_exporter": "python",
   "pygments_lexer": "ipython3",
   "version": "3.12.0"
  }
 },
 "nbformat": 4,
 "nbformat_minor": 5
}
